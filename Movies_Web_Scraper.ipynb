{
  "nbformat": 4,
  "nbformat_minor": 0,
  "metadata": {
    "colab": {
      "name": "Movies-Web-Scraper.ipynb",
      "provenance": [],
      "authorship_tag": "ABX9TyOnAv3HlkNO5MtggiXh3m8P",
      "include_colab_link": true
    },
    "kernelspec": {
      "name": "python3",
      "display_name": "Python 3"
    },
    "language_info": {
      "name": "python"
    }
  },
  "cells": [
    {
      "cell_type": "markdown",
      "metadata": {
        "id": "view-in-github",
        "colab_type": "text"
      },
      "source": [
        "<a href=\"https://colab.research.google.com/github/arhamshah/Movies-Web-Scraper/blob/main/Movies_Web_Scraper.ipynb\" target=\"_parent\"><img src=\"https://colab.research.google.com/assets/colab-badge.svg\" alt=\"Open In Colab\"/></a>"
      ]
    },
    {
      "cell_type": "markdown",
      "metadata": {
        "id": "H20Qo5GGW3d_"
      },
      "source": [
        "# Scraping Movies on [TMDb](https://www.themoviedb.org/movie)"
      ]
    },
    {
      "cell_type": "markdown",
      "metadata": {
        "id": "mTntko0wXU8m"
      },
      "source": [
        "*   Web Scraping is an automatic method to obtain large amounts of data from websites. Most of this data is unstructured data in an HTML format which is then converted into structured data in a spreadsheet or a database so that it can be used in various applications.\n",
        "\n",
        "*   In this project, I would be scraping TMDb website which is an online movie directory. I would be later structuring data in form of a DataFrame, which could be further used as a DataSet for various Applications.\n",
        "\n",
        "*   Tools/Technologies used in this Project are Python, requests, Beautiful Soup, Pandas.\n",
        "\n",
        "\n"
      ]
    },
    {
      "cell_type": "markdown",
      "metadata": {
        "id": "SxT2KAJXZckL"
      },
      "source": [
        "## Initializing and Importing"
      ]
    },
    {
      "cell_type": "markdown",
      "metadata": {
        "id": "rqIWnkbQaFoF"
      },
      "source": [
        "Here we are importing necessary libraries/frameworks which we are going to use."
      ]
    },
    {
      "cell_type": "code",
      "metadata": {
        "id": "v3-lyBenXUKL"
      },
      "source": [
        "!pip install requests --quiet\n",
        "!pip install beautifulsoup4 --quiet\n",
        "!pip install pandas --quiet"
      ],
      "execution_count": 17,
      "outputs": []
    },
    {
      "cell_type": "code",
      "metadata": {
        "id": "UhEasLz5aV3j"
      },
      "source": [
        "import requests\n",
        "from bs4 import BeautifulSoup\n",
        "import pandas as pd "
      ],
      "execution_count": 18,
      "outputs": []
    },
    {
      "cell_type": "markdown",
      "metadata": {
        "id": "jwYA9Be8ahvh"
      },
      "source": [
        "## Getting Started"
      ]
    },
    {
      "cell_type": "code",
      "metadata": {
        "id": "x6UIUAZPaoQm"
      },
      "source": [
        "# Defining Request Header\n",
        "my_header = {'accept': 'text/html', 'user-agent': 'Mozilla/5.0 (Windows NT 10.0; Win64; x64) AppleWebKit/537.36 (KHTML, like Gecko) Chrome/91.0.4472.114 Safari/537.36 Edg/91.0.864.59'}\n",
        "\n",
        "# Defining Base Url\n",
        "base_url = 'https://www.themoviedb.org/'"
      ],
      "execution_count": 19,
      "outputs": []
    },
    {
      "cell_type": "markdown",
      "metadata": {
        "id": "A58yYjLibVES"
      },
      "source": [
        "## Functions"
      ]
    },
    {
      "cell_type": "markdown",
      "metadata": {
        "id": "SpbZ3QJWbZa8"
      },
      "source": [
        "Function are defined here and they would be used while parsing the pages"
      ]
    },
    {
      "cell_type": "markdown",
      "metadata": {
        "id": "n5RcKlpVbnv0"
      },
      "source": [
        "**To get Beautiful Soap Object of Inner Page**"
      ]
    },
    {
      "cell_type": "code",
      "metadata": {
        "id": "RDhKxFBDbYUV"
      },
      "source": [
        "def get_child_soap(url):\n",
        "\n",
        "  # Creating Beautiful Soup object from given link\n",
        "  response = requests.get(url, headers=my_header).text\n",
        "  return BeautifulSoup(response, 'html.parser')"
      ],
      "execution_count": 34,
      "outputs": []
    },
    {
      "cell_type": "markdown",
      "metadata": {
        "id": "RUmxSragcKdg"
      },
      "source": [
        "**To get Ratings of a Movie from the webpage**"
      ]
    },
    {
      "cell_type": "code",
      "metadata": {
        "id": "qe3qF7RycJeU"
      },
      "source": [
        "def get_ratings(movie_webpage):\n",
        "\n",
        "  # Parsing through website to get ratings of a movie\n",
        "  popularity = movie_webpage.find('div', {'class':'user_score_chart'})\n",
        "\n",
        "  # If not found return: None\n",
        "  if popularity is not None:\n",
        "    return float(popularity['data-percent'])\n",
        "  else:\n",
        "    return None"
      ],
      "execution_count": 21,
      "outputs": []
    },
    {
      "cell_type": "markdown",
      "metadata": {
        "id": "72RAilQjceTe"
      },
      "source": [
        "**To get Genres of a Movie from the webpage**"
      ]
    },
    {
      "cell_type": "code",
      "metadata": {
        "id": "Ou8G5I8Acq5i"
      },
      "source": [
        "def get_genres(movie_webpage):\n",
        "\n",
        "  # Parsing through website to get genre of a movie\n",
        "  genres = []\n",
        "  list_genres_link = movie_webpage.find('span', {'class':'genres'})\n",
        "\n",
        "  # If not found return: None\n",
        "  if list_genres_link is not None:\n",
        "    list_genres_link = list_genres_link.find_all('a')\n",
        "    \n",
        "    for genre_link in list_genres_link:\n",
        "      genres.append(genre_link.text)\n",
        "    \n",
        "    return genres\n",
        "  else:\n",
        "    return None"
      ],
      "execution_count": 22,
      "outputs": []
    },
    {
      "cell_type": "markdown",
      "metadata": {
        "id": "6RSanbkRd5Jn"
      },
      "source": [
        "**To get Release Date of a Movie from the Webpage**"
      ]
    },
    {
      "cell_type": "code",
      "metadata": {
        "id": "01cp2gYaeALi"
      },
      "source": [
        "def get_release_date(movie_webpage):\n",
        "\n",
        "  # Parsing through website to get release date of a movie\n",
        "  release_date = movie_webpage.find('span', {'class': 'release'})\n",
        "  \n",
        "  # If not found return: None\n",
        "  if release_date is not None:\n",
        "    release_date = release_date.text.strip()\n",
        "    date = release_date[:10] \n",
        "    return date\n",
        "  else:\n",
        "    return None"
      ],
      "execution_count": 23,
      "outputs": []
    },
    {
      "cell_type": "markdown",
      "metadata": {
        "id": "0iZs_U0yeC58"
      },
      "source": [
        "**To get Runtime of a Movie from the webpage**"
      ]
    },
    {
      "cell_type": "code",
      "metadata": {
        "id": "9Bs5qiwieMRy"
      },
      "source": [
        "def get_runtime(movie_webpage):\n",
        "\n",
        "  # Parsing through website to get duration of a movie\n",
        "  runtime = movie_webpage.find('span', {'class':'runtime'})\n",
        "\n",
        "  # If not found return: None\n",
        "  if runtime is not None:\n",
        "    runtime = runtime.text.strip()\n",
        "    \n",
        "    index_h = runtime.find('h')\n",
        "    index_m = runtime.find('m') \n",
        "\n",
        "    hours = int(runtime[:index_h])\n",
        "    minutes = int(runtime[index_h+1:index_m]) if index_m != -1 else 0\n",
        "    return minutes if hours == 0 else hours * 60 + minutes\n",
        "  else:\n",
        "    return None"
      ],
      "execution_count": 24,
      "outputs": []
    },
    {
      "cell_type": "markdown",
      "metadata": {
        "id": "oN1dVB_aedwE"
      },
      "source": [
        "**To get Facts of a Movie (Language, Budget, Revenue) from the webpage**"
      ]
    },
    {
      "cell_type": "code",
      "metadata": {
        "id": "M0j0laPiemxR"
      },
      "source": [
        "def get_facts(movie_webpage):\n",
        "\n",
        "  # Parsing through website to get facts(language, budget, revenue) of a movie\n",
        "  facts = movie_webpage.find('section', {'class':'facts left_column'})\n",
        "\n",
        "  # If not found return: None\n",
        "  if facts is not None:\n",
        "    facts = facts.find_all('p')\n",
        "    temp_list = []\n",
        "    language = []\n",
        "\n",
        "    for fact in facts:\n",
        "      fact = fact.text.strip()\n",
        "      if fact.startswith('Original Language') or fact.startswith('Budget') or fact.startswith('Revenue'):\n",
        "        temp_list.append(fact)\n",
        "\n",
        "    language = temp_list[0][18:].split('; ')\n",
        "    budget = temp_list[1][7:]\n",
        "    revenue = temp_list[2][8:]\n",
        "    del(temp_list)\n",
        "\n",
        "    budget_formatted = 0 if budget == '-' else float(budget[1:].replace(',',''))\n",
        "    revenue_formatted = 0 if revenue == '-' else float(revenue[1:].replace(',',''))\n",
        "\n",
        "    return language,budget_formatted,revenue_formatted\n",
        "  else:\n",
        "    return None,None,None"
      ],
      "execution_count": 25,
      "outputs": []
    },
    {
      "cell_type": "markdown",
      "metadata": {
        "id": "9lFqHC_SeqK2"
      },
      "source": [
        "## Scraping the Data"
      ]
    },
    {
      "cell_type": "markdown",
      "metadata": {
        "id": "ZKhl5tu7fXDo"
      },
      "source": [
        "*   The movies are paginated in TMDb, so we would be browsing through pages. For the sake of this project, I would be browsing through 50 pages.\n",
        "\n",
        "*   From the listing page, url of a movie is extracted and parsed, to collect various facts and data related to a movie.\n",
        "\n"
      ]
    },
    {
      "cell_type": "markdown",
      "metadata": {
        "id": "YspPb9pGgQir"
      },
      "source": [
        "**Declaring Lists of various Data for collection**"
      ]
    },
    {
      "cell_type": "code",
      "metadata": {
        "id": "Eg6BOGgzexOe"
      },
      "source": [
        "list_titles = []\n",
        "list_links = []\n",
        "list_genres = []\n",
        "list_popularities = []\n",
        "list_release_dates = []\n",
        "list_budgets = []\n",
        "list_revenues = []\n",
        "list_runtimes = []\n",
        "list_languages = []"
      ],
      "execution_count": 40,
      "outputs": []
    },
    {
      "cell_type": "code",
      "metadata": {
        "id": "SngoEru_iHeN"
      },
      "source": [
        "# Counter for parsing requests\n",
        "# count = 0\n",
        "\n",
        "# Iterating Over Pages till 50th Page\n",
        "for i in range(1,51):\n",
        "\n",
        "  # Requesting Home Page where movies are listed\n",
        "  response = requests.get(f'{base_url}movie?page={i}', headers=my_header)\n",
        "  \n",
        "  # Creating a Beautiful Soap Object from response\n",
        "  webpage = response.text\n",
        "  soup = BeautifulSoup(webpage, 'html.parser')\n",
        "\n",
        "  # Parsing through Movie Title Names and Links of Inner Pages\n",
        "  title_divs = soup.find_all('div', {'class':'card style_1'})\n",
        "  for title_div in title_divs:\n",
        "    list_titles.append(title_div.find('h2').find('a').text)\n",
        "    list_links.append(\"https://www.themoviedb.org/\" + title_div.find('h2').find('a')['href'])\n",
        "\n",
        "  # Parsing through Inner Pages of Movies\n",
        "  for link in list_links:\n",
        "    \n",
        "    # For Printing Status...\n",
        "    # count=count+1\n",
        "    # print(f'{count}.parsing {link}....')\n",
        "\n",
        "    # Get Inner Page Beautiful Soap Object\n",
        "    movie_webpage = get_child_soap(link)\n",
        "\n",
        "    # Appending the data of movies to various lists\n",
        "    list_genres.append(get_genres(movie_webpage))\n",
        "    list_popularities.append(get_ratings(movie_webpage))\n",
        "    list_release_dates.append(get_release_date(movie_webpage))\n",
        "    list_runtimes.append(get_runtime(movie_webpage))\n",
        "    facts = get_facts(movie_webpage)\n",
        "    list_languages.append(facts[0])\n",
        "    list_budgets.append(facts[1])\n",
        "    list_revenues.append(facts[2])\n",
        "  \n",
        "  # Resetting the list of links for next iteration\n",
        "  list_links = []"
      ],
      "execution_count": null,
      "outputs": []
    },
    {
      "cell_type": "markdown",
      "metadata": {
        "id": "9YO4_L8Sur3S"
      },
      "source": [
        "**Converting Lists into Pandas**"
      ]
    },
    {
      "cell_type": "code",
      "metadata": {
        "id": "Ro002v7EvSrA"
      },
      "source": [
        "# Transforming Lists into Dictionaries for Pandas\n",
        "dict_df = {\n",
        "    'Title':list_titles,\n",
        "    'Genres':list_genres,\n",
        "    'Popularity':list_popularities,\n",
        "    'Release Date':list_release_dates,\n",
        "    'Run Time':list_runtimes,\n",
        "    'Languages':list_languages,\n",
        "    'Budget':list_budgets,\n",
        "    'Revenue':list_revenues\n",
        "}"
      ],
      "execution_count": 43,
      "outputs": []
    },
    {
      "cell_type": "code",
      "metadata": {
        "colab": {
          "base_uri": "https://localhost:8080/",
          "height": 402
        },
        "id": "8heThqBIvXuI",
        "outputId": "bd3c62c4-0234-4309-a6f3-3ef87d5f8ff0"
      },
      "source": [
        "df = pd.DataFrame(dict_df)\n",
        "df"
      ],
      "execution_count": 48,
      "outputs": [
        {
          "output_type": "execute_result",
          "data": {
            "text/html": [
              "<div>\n",
              "<style scoped>\n",
              "    .dataframe tbody tr th:only-of-type {\n",
              "        vertical-align: middle;\n",
              "    }\n",
              "\n",
              "    .dataframe tbody tr th {\n",
              "        vertical-align: top;\n",
              "    }\n",
              "\n",
              "    .dataframe thead th {\n",
              "        text-align: right;\n",
              "    }\n",
              "</style>\n",
              "<table border=\"1\" class=\"dataframe\">\n",
              "  <thead>\n",
              "    <tr style=\"text-align: right;\">\n",
              "      <th></th>\n",
              "      <th>Title</th>\n",
              "      <th>Genres</th>\n",
              "      <th>Popularity</th>\n",
              "      <th>Release Date</th>\n",
              "      <th>Run Time</th>\n",
              "      <th>Languages</th>\n",
              "      <th>Budget</th>\n",
              "      <th>Revenue</th>\n",
              "    </tr>\n",
              "  </thead>\n",
              "  <tbody>\n",
              "    <tr>\n",
              "      <th>0</th>\n",
              "      <td>Luca</td>\n",
              "      <td>[Animation, Comedy, Family, Fantasy]</td>\n",
              "      <td>82.0</td>\n",
              "      <td>06/17/2021</td>\n",
              "      <td>95.0</td>\n",
              "      <td>[English]</td>\n",
              "      <td>0.0</td>\n",
              "      <td>5000000.0</td>\n",
              "    </tr>\n",
              "    <tr>\n",
              "      <th>1</th>\n",
              "      <td>A Quiet Place Part II</td>\n",
              "      <td>[Science Fiction, Thriller, Horror]</td>\n",
              "      <td>74.0</td>\n",
              "      <td>05/28/2021</td>\n",
              "      <td>97.0</td>\n",
              "      <td>[English]</td>\n",
              "      <td>61000000.0</td>\n",
              "      <td>224400713.0</td>\n",
              "    </tr>\n",
              "    <tr>\n",
              "      <th>2</th>\n",
              "      <td>Infinite</td>\n",
              "      <td>[Science Fiction, Action, Thriller]</td>\n",
              "      <td>0.0</td>\n",
              "      <td>09/08/2021</td>\n",
              "      <td>106.0</td>\n",
              "      <td>[English]</td>\n",
              "      <td>0.0</td>\n",
              "      <td>0.0</td>\n",
              "    </tr>\n",
              "    <tr>\n",
              "      <th>3</th>\n",
              "      <td>Cruella</td>\n",
              "      <td>[Comedy, Crime]</td>\n",
              "      <td>85.0</td>\n",
              "      <td>05/28/2021</td>\n",
              "      <td>134.0</td>\n",
              "      <td>[English]</td>\n",
              "      <td>200000000.0</td>\n",
              "      <td>161317593.0</td>\n",
              "    </tr>\n",
              "    <tr>\n",
              "      <th>4</th>\n",
              "      <td>F9</td>\n",
              "      <td>[Action, Adventure, Crime]</td>\n",
              "      <td>79.0</td>\n",
              "      <td>06/25/2021</td>\n",
              "      <td>145.0</td>\n",
              "      <td>[English]</td>\n",
              "      <td>200000000.0</td>\n",
              "      <td>292457000.0</td>\n",
              "    </tr>\n",
              "    <tr>\n",
              "      <th>...</th>\n",
              "      <td>...</td>\n",
              "      <td>...</td>\n",
              "      <td>...</td>\n",
              "      <td>...</td>\n",
              "      <td>...</td>\n",
              "      <td>...</td>\n",
              "      <td>...</td>\n",
              "      <td>...</td>\n",
              "    </tr>\n",
              "    <tr>\n",
              "      <th>995</th>\n",
              "      <td>Porno</td>\n",
              "      <td>[Comedy, Horror]</td>\n",
              "      <td>58.0</td>\n",
              "      <td>05/08/2020</td>\n",
              "      <td>98.0</td>\n",
              "      <td>[English]</td>\n",
              "      <td>0.0</td>\n",
              "      <td>0.0</td>\n",
              "    </tr>\n",
              "    <tr>\n",
              "      <th>996</th>\n",
              "      <td>The Conquest Of Siberia</td>\n",
              "      <td>[Action, History, Drama]</td>\n",
              "      <td>63.0</td>\n",
              "      <td>06/28/2019</td>\n",
              "      <td>109.0</td>\n",
              "      <td>[Russian]</td>\n",
              "      <td>0.0</td>\n",
              "      <td>1964806.0</td>\n",
              "    </tr>\n",
              "    <tr>\n",
              "      <th>997</th>\n",
              "      <td>Chappie</td>\n",
              "      <td>[Crime, Action, Science Fiction]</td>\n",
              "      <td>68.0</td>\n",
              "      <td>03/06/2015</td>\n",
              "      <td>120.0</td>\n",
              "      <td>[English]</td>\n",
              "      <td>49000000.0</td>\n",
              "      <td>104399548.0</td>\n",
              "    </tr>\n",
              "    <tr>\n",
              "      <th>998</th>\n",
              "      <td>Spies in Disguise</td>\n",
              "      <td>[Animation, Action, Adventure, Comedy, Family]</td>\n",
              "      <td>77.0</td>\n",
              "      <td>12/25/2019</td>\n",
              "      <td>102.0</td>\n",
              "      <td>[English]</td>\n",
              "      <td>100000000.0</td>\n",
              "      <td>171616764.0</td>\n",
              "    </tr>\n",
              "    <tr>\n",
              "      <th>999</th>\n",
              "      <td>Madagascar: Escape 2 Africa</td>\n",
              "      <td>[Family, Adventure, Animation, Comedy]</td>\n",
              "      <td>64.0</td>\n",
              "      <td>11/06/2008</td>\n",
              "      <td>89.0</td>\n",
              "      <td>[English]</td>\n",
              "      <td>150000000.0</td>\n",
              "      <td>603900354.0</td>\n",
              "    </tr>\n",
              "  </tbody>\n",
              "</table>\n",
              "<p>1000 rows × 8 columns</p>\n",
              "</div>"
            ],
            "text/plain": [
              "                           Title  ...      Revenue\n",
              "0                           Luca  ...    5000000.0\n",
              "1          A Quiet Place Part II  ...  224400713.0\n",
              "2                       Infinite  ...          0.0\n",
              "3                        Cruella  ...  161317593.0\n",
              "4                             F9  ...  292457000.0\n",
              "..                           ...  ...          ...\n",
              "995                        Porno  ...          0.0\n",
              "996      The Conquest Of Siberia  ...    1964806.0\n",
              "997                      Chappie  ...  104399548.0\n",
              "998            Spies in Disguise  ...  171616764.0\n",
              "999  Madagascar: Escape 2 Africa  ...  603900354.0\n",
              "\n",
              "[1000 rows x 8 columns]"
            ]
          },
          "metadata": {
            "tags": []
          },
          "execution_count": 48
        }
      ]
    }
  ]
}